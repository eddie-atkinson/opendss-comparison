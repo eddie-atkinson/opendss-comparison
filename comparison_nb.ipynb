{
 "cells": [
  {
   "cell_type": "code",
   "execution_count": 126,
   "metadata": {},
   "outputs": [],
   "source": [
    "import pandas as pd\n",
    "from pathlib import Path\n",
    "# Why haven't we invented anything better than matplotlib...\n",
    "import matplotlib.pyplot as plt"
   ]
  },
  {
   "cell_type": "code",
   "execution_count": 127,
   "metadata": {},
   "outputs": [],
   "source": [
    "OPENDSS_PATH = Path(\"./opendss/output/processed_output\")\n",
    "PP_PATH = Path(\"pandapower/simulation_res\")"
   ]
  },
  {
   "cell_type": "code",
   "execution_count": 128,
   "metadata": {},
   "outputs": [],
   "source": [
    "# Buses 0 and 1 are the HV and LV sides of the transformer respectively, there is no comparable bus / line in the OpenDSS model so drop them\n",
    "pp_df_vm_a = pd.read_csv(f\"{PP_PATH.resolve()}/vm_a_pu.csv\").drop([\"Unnamed: 0\", \"0\", \"1\"], axis=1)\n",
    "pp_df_vm_b = pd.read_csv(f\"{PP_PATH.resolve()}/vm_b_pu.csv\").drop([\"Unnamed: 0\", \"0\", \"1\"], axis=1)\n",
    "pp_df_vm_c = pd.read_csv(f\"{PP_PATH.resolve()}/vm_c_pu.csv\").drop([\"Unnamed: 0\", \"0\", \"1\"], axis=1)"
   ]
  },
  {
   "cell_type": "code",
   "execution_count": 129,
   "metadata": {},
   "outputs": [],
   "source": [
    "# The column numbers don't quite line up with OpenDSS due to the aforementioned HV / LV transformer buses, so need to decrement bus number by 1\n",
    "def decrement_col_numbers(df):\n",
    "    cols = [int(col) for col in df.columns]\n",
    "    cols.sort()\n",
    "    for col in cols:\n",
    "        df[str(col - 1)] = df[str(col)]\n",
    "    df = df.drop([str(cols[-1])], axis=1)\n",
    "    return df\n",
    "\n",
    "pp_df_vm_a = decrement_col_numbers(pp_df_vm_a)\n",
    "pp_df_vm_b = decrement_col_numbers(pp_df_vm_b)\n",
    "pp_df_vm_c = decrement_col_numbers(pp_df_vm_c)\n",
    "\n"
   ]
  },
  {
   "cell_type": "code",
   "execution_count": 130,
   "metadata": {},
   "outputs": [],
   "source": [
    "odss_df_vm_a = pd.read_csv(f\"{OPENDSS_PATH}/vm_a_pu.csv\").drop([\"Unnamed: 0\"], axis=1)\n",
    "odss_df_vm_b = pd.read_csv(f\"{OPENDSS_PATH}/vm_b_pu.csv\").drop([\"Unnamed: 0\"], axis=1)\n",
    "odss_df_vm_c = pd.read_csv(f\"{OPENDSS_PATH}/vm_c_pu.csv\").drop([\"Unnamed: 0\"], axis=1)\n"
   ]
  },
  {
   "cell_type": "code",
   "execution_count": 131,
   "metadata": {},
   "outputs": [],
   "source": [
    "vm_a_delta_df = pd.DataFrame()\n",
    "vm_b_delta_df = pd.DataFrame()\n",
    "vm_c_delta_df = pd.DataFrame()"
   ]
  },
  {
   "cell_type": "code",
   "execution_count": 132,
   "metadata": {},
   "outputs": [],
   "source": [
    "def compute_vm_delta(df_a, df_b, result_df):\n",
    "    for col in df_a.columns:\n",
    "        # More warnings ahoy, again no time to care\n",
    "        result_df[col] = df_a[col] - df_b[col]"
   ]
  },
  {
   "cell_type": "code",
   "execution_count": 133,
   "metadata": {},
   "outputs": [
    {
     "name": "stderr",
     "output_type": "stream",
     "text": [
      "/var/folders/lp/1260tw150dq3w83bb5lkjmpw0000gn/T/ipykernel_31665/2386849204.py:4: PerformanceWarning: DataFrame is highly fragmented.  This is usually the result of calling `frame.insert` many times, which has poor performance.  Consider joining all columns at once using pd.concat(axis=1) instead. To get a de-fragmented frame, use `newframe = frame.copy()`\n",
      "  result_df[col] = df_a[col] - df_b[col]\n",
      "/var/folders/lp/1260tw150dq3w83bb5lkjmpw0000gn/T/ipykernel_31665/2386849204.py:4: PerformanceWarning: DataFrame is highly fragmented.  This is usually the result of calling `frame.insert` many times, which has poor performance.  Consider joining all columns at once using pd.concat(axis=1) instead. To get a de-fragmented frame, use `newframe = frame.copy()`\n",
      "  result_df[col] = df_a[col] - df_b[col]\n",
      "/var/folders/lp/1260tw150dq3w83bb5lkjmpw0000gn/T/ipykernel_31665/2386849204.py:4: PerformanceWarning: DataFrame is highly fragmented.  This is usually the result of calling `frame.insert` many times, which has poor performance.  Consider joining all columns at once using pd.concat(axis=1) instead. To get a de-fragmented frame, use `newframe = frame.copy()`\n",
      "  result_df[col] = df_a[col] - df_b[col]\n",
      "/var/folders/lp/1260tw150dq3w83bb5lkjmpw0000gn/T/ipykernel_31665/2386849204.py:4: PerformanceWarning: DataFrame is highly fragmented.  This is usually the result of calling `frame.insert` many times, which has poor performance.  Consider joining all columns at once using pd.concat(axis=1) instead. To get a de-fragmented frame, use `newframe = frame.copy()`\n",
      "  result_df[col] = df_a[col] - df_b[col]\n",
      "/var/folders/lp/1260tw150dq3w83bb5lkjmpw0000gn/T/ipykernel_31665/2386849204.py:4: PerformanceWarning: DataFrame is highly fragmented.  This is usually the result of calling `frame.insert` many times, which has poor performance.  Consider joining all columns at once using pd.concat(axis=1) instead. To get a de-fragmented frame, use `newframe = frame.copy()`\n",
      "  result_df[col] = df_a[col] - df_b[col]\n",
      "/var/folders/lp/1260tw150dq3w83bb5lkjmpw0000gn/T/ipykernel_31665/2386849204.py:4: PerformanceWarning: DataFrame is highly fragmented.  This is usually the result of calling `frame.insert` many times, which has poor performance.  Consider joining all columns at once using pd.concat(axis=1) instead. To get a de-fragmented frame, use `newframe = frame.copy()`\n",
      "  result_df[col] = df_a[col] - df_b[col]\n",
      "/var/folders/lp/1260tw150dq3w83bb5lkjmpw0000gn/T/ipykernel_31665/2386849204.py:4: PerformanceWarning: DataFrame is highly fragmented.  This is usually the result of calling `frame.insert` many times, which has poor performance.  Consider joining all columns at once using pd.concat(axis=1) instead. To get a de-fragmented frame, use `newframe = frame.copy()`\n",
      "  result_df[col] = df_a[col] - df_b[col]\n",
      "/var/folders/lp/1260tw150dq3w83bb5lkjmpw0000gn/T/ipykernel_31665/2386849204.py:4: PerformanceWarning: DataFrame is highly fragmented.  This is usually the result of calling `frame.insert` many times, which has poor performance.  Consider joining all columns at once using pd.concat(axis=1) instead. To get a de-fragmented frame, use `newframe = frame.copy()`\n",
      "  result_df[col] = df_a[col] - df_b[col]\n",
      "/var/folders/lp/1260tw150dq3w83bb5lkjmpw0000gn/T/ipykernel_31665/2386849204.py:4: PerformanceWarning: DataFrame is highly fragmented.  This is usually the result of calling `frame.insert` many times, which has poor performance.  Consider joining all columns at once using pd.concat(axis=1) instead. To get a de-fragmented frame, use `newframe = frame.copy()`\n",
      "  result_df[col] = df_a[col] - df_b[col]\n",
      "/var/folders/lp/1260tw150dq3w83bb5lkjmpw0000gn/T/ipykernel_31665/2386849204.py:4: PerformanceWarning: DataFrame is highly fragmented.  This is usually the result of calling `frame.insert` many times, which has poor performance.  Consider joining all columns at once using pd.concat(axis=1) instead. To get a de-fragmented frame, use `newframe = frame.copy()`\n",
      "  result_df[col] = df_a[col] - df_b[col]\n",
      "/var/folders/lp/1260tw150dq3w83bb5lkjmpw0000gn/T/ipykernel_31665/2386849204.py:4: PerformanceWarning: DataFrame is highly fragmented.  This is usually the result of calling `frame.insert` many times, which has poor performance.  Consider joining all columns at once using pd.concat(axis=1) instead. To get a de-fragmented frame, use `newframe = frame.copy()`\n",
      "  result_df[col] = df_a[col] - df_b[col]\n",
      "/var/folders/lp/1260tw150dq3w83bb5lkjmpw0000gn/T/ipykernel_31665/2386849204.py:4: PerformanceWarning: DataFrame is highly fragmented.  This is usually the result of calling `frame.insert` many times, which has poor performance.  Consider joining all columns at once using pd.concat(axis=1) instead. To get a de-fragmented frame, use `newframe = frame.copy()`\n",
      "  result_df[col] = df_a[col] - df_b[col]\n",
      "/var/folders/lp/1260tw150dq3w83bb5lkjmpw0000gn/T/ipykernel_31665/2386849204.py:4: PerformanceWarning: DataFrame is highly fragmented.  This is usually the result of calling `frame.insert` many times, which has poor performance.  Consider joining all columns at once using pd.concat(axis=1) instead. To get a de-fragmented frame, use `newframe = frame.copy()`\n",
      "  result_df[col] = df_a[col] - df_b[col]\n",
      "/var/folders/lp/1260tw150dq3w83bb5lkjmpw0000gn/T/ipykernel_31665/2386849204.py:4: PerformanceWarning: DataFrame is highly fragmented.  This is usually the result of calling `frame.insert` many times, which has poor performance.  Consider joining all columns at once using pd.concat(axis=1) instead. To get a de-fragmented frame, use `newframe = frame.copy()`\n",
      "  result_df[col] = df_a[col] - df_b[col]\n",
      "/var/folders/lp/1260tw150dq3w83bb5lkjmpw0000gn/T/ipykernel_31665/2386849204.py:4: PerformanceWarning: DataFrame is highly fragmented.  This is usually the result of calling `frame.insert` many times, which has poor performance.  Consider joining all columns at once using pd.concat(axis=1) instead. To get a de-fragmented frame, use `newframe = frame.copy()`\n",
      "  result_df[col] = df_a[col] - df_b[col]\n",
      "/var/folders/lp/1260tw150dq3w83bb5lkjmpw0000gn/T/ipykernel_31665/2386849204.py:4: PerformanceWarning: DataFrame is highly fragmented.  This is usually the result of calling `frame.insert` many times, which has poor performance.  Consider joining all columns at once using pd.concat(axis=1) instead. To get a de-fragmented frame, use `newframe = frame.copy()`\n",
      "  result_df[col] = df_a[col] - df_b[col]\n",
      "/var/folders/lp/1260tw150dq3w83bb5lkjmpw0000gn/T/ipykernel_31665/2386849204.py:4: PerformanceWarning: DataFrame is highly fragmented.  This is usually the result of calling `frame.insert` many times, which has poor performance.  Consider joining all columns at once using pd.concat(axis=1) instead. To get a de-fragmented frame, use `newframe = frame.copy()`\n",
      "  result_df[col] = df_a[col] - df_b[col]\n",
      "/var/folders/lp/1260tw150dq3w83bb5lkjmpw0000gn/T/ipykernel_31665/2386849204.py:4: PerformanceWarning: DataFrame is highly fragmented.  This is usually the result of calling `frame.insert` many times, which has poor performance.  Consider joining all columns at once using pd.concat(axis=1) instead. To get a de-fragmented frame, use `newframe = frame.copy()`\n",
      "  result_df[col] = df_a[col] - df_b[col]\n",
      "/var/folders/lp/1260tw150dq3w83bb5lkjmpw0000gn/T/ipykernel_31665/2386849204.py:4: PerformanceWarning: DataFrame is highly fragmented.  This is usually the result of calling `frame.insert` many times, which has poor performance.  Consider joining all columns at once using pd.concat(axis=1) instead. To get a de-fragmented frame, use `newframe = frame.copy()`\n",
      "  result_df[col] = df_a[col] - df_b[col]\n",
      "/var/folders/lp/1260tw150dq3w83bb5lkjmpw0000gn/T/ipykernel_31665/2386849204.py:4: PerformanceWarning: DataFrame is highly fragmented.  This is usually the result of calling `frame.insert` many times, which has poor performance.  Consider joining all columns at once using pd.concat(axis=1) instead. To get a de-fragmented frame, use `newframe = frame.copy()`\n",
      "  result_df[col] = df_a[col] - df_b[col]\n",
      "/var/folders/lp/1260tw150dq3w83bb5lkjmpw0000gn/T/ipykernel_31665/2386849204.py:4: PerformanceWarning: DataFrame is highly fragmented.  This is usually the result of calling `frame.insert` many times, which has poor performance.  Consider joining all columns at once using pd.concat(axis=1) instead. To get a de-fragmented frame, use `newframe = frame.copy()`\n",
      "  result_df[col] = df_a[col] - df_b[col]\n",
      "/var/folders/lp/1260tw150dq3w83bb5lkjmpw0000gn/T/ipykernel_31665/2386849204.py:4: PerformanceWarning: DataFrame is highly fragmented.  This is usually the result of calling `frame.insert` many times, which has poor performance.  Consider joining all columns at once using pd.concat(axis=1) instead. To get a de-fragmented frame, use `newframe = frame.copy()`\n",
      "  result_df[col] = df_a[col] - df_b[col]\n",
      "/var/folders/lp/1260tw150dq3w83bb5lkjmpw0000gn/T/ipykernel_31665/2386849204.py:4: PerformanceWarning: DataFrame is highly fragmented.  This is usually the result of calling `frame.insert` many times, which has poor performance.  Consider joining all columns at once using pd.concat(axis=1) instead. To get a de-fragmented frame, use `newframe = frame.copy()`\n",
      "  result_df[col] = df_a[col] - df_b[col]\n",
      "/var/folders/lp/1260tw150dq3w83bb5lkjmpw0000gn/T/ipykernel_31665/2386849204.py:4: PerformanceWarning: DataFrame is highly fragmented.  This is usually the result of calling `frame.insert` many times, which has poor performance.  Consider joining all columns at once using pd.concat(axis=1) instead. To get a de-fragmented frame, use `newframe = frame.copy()`\n",
      "  result_df[col] = df_a[col] - df_b[col]\n",
      "/var/folders/lp/1260tw150dq3w83bb5lkjmpw0000gn/T/ipykernel_31665/2386849204.py:4: PerformanceWarning: DataFrame is highly fragmented.  This is usually the result of calling `frame.insert` many times, which has poor performance.  Consider joining all columns at once using pd.concat(axis=1) instead. To get a de-fragmented frame, use `newframe = frame.copy()`\n",
      "  result_df[col] = df_a[col] - df_b[col]\n",
      "/var/folders/lp/1260tw150dq3w83bb5lkjmpw0000gn/T/ipykernel_31665/2386849204.py:4: PerformanceWarning: DataFrame is highly fragmented.  This is usually the result of calling `frame.insert` many times, which has poor performance.  Consider joining all columns at once using pd.concat(axis=1) instead. To get a de-fragmented frame, use `newframe = frame.copy()`\n",
      "  result_df[col] = df_a[col] - df_b[col]\n",
      "/var/folders/lp/1260tw150dq3w83bb5lkjmpw0000gn/T/ipykernel_31665/2386849204.py:4: PerformanceWarning: DataFrame is highly fragmented.  This is usually the result of calling `frame.insert` many times, which has poor performance.  Consider joining all columns at once using pd.concat(axis=1) instead. To get a de-fragmented frame, use `newframe = frame.copy()`\n",
      "  result_df[col] = df_a[col] - df_b[col]\n",
      "/var/folders/lp/1260tw150dq3w83bb5lkjmpw0000gn/T/ipykernel_31665/2386849204.py:4: PerformanceWarning: DataFrame is highly fragmented.  This is usually the result of calling `frame.insert` many times, which has poor performance.  Consider joining all columns at once using pd.concat(axis=1) instead. To get a de-fragmented frame, use `newframe = frame.copy()`\n",
      "  result_df[col] = df_a[col] - df_b[col]\n",
      "/var/folders/lp/1260tw150dq3w83bb5lkjmpw0000gn/T/ipykernel_31665/2386849204.py:4: PerformanceWarning: DataFrame is highly fragmented.  This is usually the result of calling `frame.insert` many times, which has poor performance.  Consider joining all columns at once using pd.concat(axis=1) instead. To get a de-fragmented frame, use `newframe = frame.copy()`\n",
      "  result_df[col] = df_a[col] - df_b[col]\n",
      "/var/folders/lp/1260tw150dq3w83bb5lkjmpw0000gn/T/ipykernel_31665/2386849204.py:4: PerformanceWarning: DataFrame is highly fragmented.  This is usually the result of calling `frame.insert` many times, which has poor performance.  Consider joining all columns at once using pd.concat(axis=1) instead. To get a de-fragmented frame, use `newframe = frame.copy()`\n",
      "  result_df[col] = df_a[col] - df_b[col]\n",
      "/var/folders/lp/1260tw150dq3w83bb5lkjmpw0000gn/T/ipykernel_31665/2386849204.py:4: PerformanceWarning: DataFrame is highly fragmented.  This is usually the result of calling `frame.insert` many times, which has poor performance.  Consider joining all columns at once using pd.concat(axis=1) instead. To get a de-fragmented frame, use `newframe = frame.copy()`\n",
      "  result_df[col] = df_a[col] - df_b[col]\n",
      "/var/folders/lp/1260tw150dq3w83bb5lkjmpw0000gn/T/ipykernel_31665/2386849204.py:4: PerformanceWarning: DataFrame is highly fragmented.  This is usually the result of calling `frame.insert` many times, which has poor performance.  Consider joining all columns at once using pd.concat(axis=1) instead. To get a de-fragmented frame, use `newframe = frame.copy()`\n",
      "  result_df[col] = df_a[col] - df_b[col]\n",
      "/var/folders/lp/1260tw150dq3w83bb5lkjmpw0000gn/T/ipykernel_31665/2386849204.py:4: PerformanceWarning: DataFrame is highly fragmented.  This is usually the result of calling `frame.insert` many times, which has poor performance.  Consider joining all columns at once using pd.concat(axis=1) instead. To get a de-fragmented frame, use `newframe = frame.copy()`\n",
      "  result_df[col] = df_a[col] - df_b[col]\n",
      "/var/folders/lp/1260tw150dq3w83bb5lkjmpw0000gn/T/ipykernel_31665/2386849204.py:4: PerformanceWarning: DataFrame is highly fragmented.  This is usually the result of calling `frame.insert` many times, which has poor performance.  Consider joining all columns at once using pd.concat(axis=1) instead. To get a de-fragmented frame, use `newframe = frame.copy()`\n",
      "  result_df[col] = df_a[col] - df_b[col]\n",
      "/var/folders/lp/1260tw150dq3w83bb5lkjmpw0000gn/T/ipykernel_31665/2386849204.py:4: PerformanceWarning: DataFrame is highly fragmented.  This is usually the result of calling `frame.insert` many times, which has poor performance.  Consider joining all columns at once using pd.concat(axis=1) instead. To get a de-fragmented frame, use `newframe = frame.copy()`\n",
      "  result_df[col] = df_a[col] - df_b[col]\n",
      "/var/folders/lp/1260tw150dq3w83bb5lkjmpw0000gn/T/ipykernel_31665/2386849204.py:4: PerformanceWarning: DataFrame is highly fragmented.  This is usually the result of calling `frame.insert` many times, which has poor performance.  Consider joining all columns at once using pd.concat(axis=1) instead. To get a de-fragmented frame, use `newframe = frame.copy()`\n",
      "  result_df[col] = df_a[col] - df_b[col]\n",
      "/var/folders/lp/1260tw150dq3w83bb5lkjmpw0000gn/T/ipykernel_31665/2386849204.py:4: PerformanceWarning: DataFrame is highly fragmented.  This is usually the result of calling `frame.insert` many times, which has poor performance.  Consider joining all columns at once using pd.concat(axis=1) instead. To get a de-fragmented frame, use `newframe = frame.copy()`\n",
      "  result_df[col] = df_a[col] - df_b[col]\n",
      "/var/folders/lp/1260tw150dq3w83bb5lkjmpw0000gn/T/ipykernel_31665/2386849204.py:4: PerformanceWarning: DataFrame is highly fragmented.  This is usually the result of calling `frame.insert` many times, which has poor performance.  Consider joining all columns at once using pd.concat(axis=1) instead. To get a de-fragmented frame, use `newframe = frame.copy()`\n",
      "  result_df[col] = df_a[col] - df_b[col]\n",
      "/var/folders/lp/1260tw150dq3w83bb5lkjmpw0000gn/T/ipykernel_31665/2386849204.py:4: PerformanceWarning: DataFrame is highly fragmented.  This is usually the result of calling `frame.insert` many times, which has poor performance.  Consider joining all columns at once using pd.concat(axis=1) instead. To get a de-fragmented frame, use `newframe = frame.copy()`\n",
      "  result_df[col] = df_a[col] - df_b[col]\n",
      "/var/folders/lp/1260tw150dq3w83bb5lkjmpw0000gn/T/ipykernel_31665/2386849204.py:4: PerformanceWarning: DataFrame is highly fragmented.  This is usually the result of calling `frame.insert` many times, which has poor performance.  Consider joining all columns at once using pd.concat(axis=1) instead. To get a de-fragmented frame, use `newframe = frame.copy()`\n",
      "  result_df[col] = df_a[col] - df_b[col]\n",
      "/var/folders/lp/1260tw150dq3w83bb5lkjmpw0000gn/T/ipykernel_31665/2386849204.py:4: PerformanceWarning: DataFrame is highly fragmented.  This is usually the result of calling `frame.insert` many times, which has poor performance.  Consider joining all columns at once using pd.concat(axis=1) instead. To get a de-fragmented frame, use `newframe = frame.copy()`\n",
      "  result_df[col] = df_a[col] - df_b[col]\n",
      "/var/folders/lp/1260tw150dq3w83bb5lkjmpw0000gn/T/ipykernel_31665/2386849204.py:4: PerformanceWarning: DataFrame is highly fragmented.  This is usually the result of calling `frame.insert` many times, which has poor performance.  Consider joining all columns at once using pd.concat(axis=1) instead. To get a de-fragmented frame, use `newframe = frame.copy()`\n",
      "  result_df[col] = df_a[col] - df_b[col]\n",
      "/var/folders/lp/1260tw150dq3w83bb5lkjmpw0000gn/T/ipykernel_31665/2386849204.py:4: PerformanceWarning: DataFrame is highly fragmented.  This is usually the result of calling `frame.insert` many times, which has poor performance.  Consider joining all columns at once using pd.concat(axis=1) instead. To get a de-fragmented frame, use `newframe = frame.copy()`\n",
      "  result_df[col] = df_a[col] - df_b[col]\n",
      "/var/folders/lp/1260tw150dq3w83bb5lkjmpw0000gn/T/ipykernel_31665/2386849204.py:4: PerformanceWarning: DataFrame is highly fragmented.  This is usually the result of calling `frame.insert` many times, which has poor performance.  Consider joining all columns at once using pd.concat(axis=1) instead. To get a de-fragmented frame, use `newframe = frame.copy()`\n",
      "  result_df[col] = df_a[col] - df_b[col]\n",
      "/var/folders/lp/1260tw150dq3w83bb5lkjmpw0000gn/T/ipykernel_31665/2386849204.py:4: PerformanceWarning: DataFrame is highly fragmented.  This is usually the result of calling `frame.insert` many times, which has poor performance.  Consider joining all columns at once using pd.concat(axis=1) instead. To get a de-fragmented frame, use `newframe = frame.copy()`\n",
      "  result_df[col] = df_a[col] - df_b[col]\n",
      "/var/folders/lp/1260tw150dq3w83bb5lkjmpw0000gn/T/ipykernel_31665/2386849204.py:4: PerformanceWarning: DataFrame is highly fragmented.  This is usually the result of calling `frame.insert` many times, which has poor performance.  Consider joining all columns at once using pd.concat(axis=1) instead. To get a de-fragmented frame, use `newframe = frame.copy()`\n",
      "  result_df[col] = df_a[col] - df_b[col]\n",
      "/var/folders/lp/1260tw150dq3w83bb5lkjmpw0000gn/T/ipykernel_31665/2386849204.py:4: PerformanceWarning: DataFrame is highly fragmented.  This is usually the result of calling `frame.insert` many times, which has poor performance.  Consider joining all columns at once using pd.concat(axis=1) instead. To get a de-fragmented frame, use `newframe = frame.copy()`\n",
      "  result_df[col] = df_a[col] - df_b[col]\n",
      "/var/folders/lp/1260tw150dq3w83bb5lkjmpw0000gn/T/ipykernel_31665/2386849204.py:4: PerformanceWarning: DataFrame is highly fragmented.  This is usually the result of calling `frame.insert` many times, which has poor performance.  Consider joining all columns at once using pd.concat(axis=1) instead. To get a de-fragmented frame, use `newframe = frame.copy()`\n",
      "  result_df[col] = df_a[col] - df_b[col]\n",
      "/var/folders/lp/1260tw150dq3w83bb5lkjmpw0000gn/T/ipykernel_31665/2386849204.py:4: PerformanceWarning: DataFrame is highly fragmented.  This is usually the result of calling `frame.insert` many times, which has poor performance.  Consider joining all columns at once using pd.concat(axis=1) instead. To get a de-fragmented frame, use `newframe = frame.copy()`\n",
      "  result_df[col] = df_a[col] - df_b[col]\n",
      "/var/folders/lp/1260tw150dq3w83bb5lkjmpw0000gn/T/ipykernel_31665/2386849204.py:4: PerformanceWarning: DataFrame is highly fragmented.  This is usually the result of calling `frame.insert` many times, which has poor performance.  Consider joining all columns at once using pd.concat(axis=1) instead. To get a de-fragmented frame, use `newframe = frame.copy()`\n",
      "  result_df[col] = df_a[col] - df_b[col]\n",
      "/var/folders/lp/1260tw150dq3w83bb5lkjmpw0000gn/T/ipykernel_31665/2386849204.py:4: PerformanceWarning: DataFrame is highly fragmented.  This is usually the result of calling `frame.insert` many times, which has poor performance.  Consider joining all columns at once using pd.concat(axis=1) instead. To get a de-fragmented frame, use `newframe = frame.copy()`\n",
      "  result_df[col] = df_a[col] - df_b[col]\n",
      "/var/folders/lp/1260tw150dq3w83bb5lkjmpw0000gn/T/ipykernel_31665/2386849204.py:4: PerformanceWarning: DataFrame is highly fragmented.  This is usually the result of calling `frame.insert` many times, which has poor performance.  Consider joining all columns at once using pd.concat(axis=1) instead. To get a de-fragmented frame, use `newframe = frame.copy()`\n",
      "  result_df[col] = df_a[col] - df_b[col]\n",
      "/var/folders/lp/1260tw150dq3w83bb5lkjmpw0000gn/T/ipykernel_31665/2386849204.py:4: PerformanceWarning: DataFrame is highly fragmented.  This is usually the result of calling `frame.insert` many times, which has poor performance.  Consider joining all columns at once using pd.concat(axis=1) instead. To get a de-fragmented frame, use `newframe = frame.copy()`\n",
      "  result_df[col] = df_a[col] - df_b[col]\n",
      "/var/folders/lp/1260tw150dq3w83bb5lkjmpw0000gn/T/ipykernel_31665/2386849204.py:4: PerformanceWarning: DataFrame is highly fragmented.  This is usually the result of calling `frame.insert` many times, which has poor performance.  Consider joining all columns at once using pd.concat(axis=1) instead. To get a de-fragmented frame, use `newframe = frame.copy()`\n",
      "  result_df[col] = df_a[col] - df_b[col]\n",
      "/var/folders/lp/1260tw150dq3w83bb5lkjmpw0000gn/T/ipykernel_31665/2386849204.py:4: PerformanceWarning: DataFrame is highly fragmented.  This is usually the result of calling `frame.insert` many times, which has poor performance.  Consider joining all columns at once using pd.concat(axis=1) instead. To get a de-fragmented frame, use `newframe = frame.copy()`\n",
      "  result_df[col] = df_a[col] - df_b[col]\n",
      "/var/folders/lp/1260tw150dq3w83bb5lkjmpw0000gn/T/ipykernel_31665/2386849204.py:4: PerformanceWarning: DataFrame is highly fragmented.  This is usually the result of calling `frame.insert` many times, which has poor performance.  Consider joining all columns at once using pd.concat(axis=1) instead. To get a de-fragmented frame, use `newframe = frame.copy()`\n",
      "  result_df[col] = df_a[col] - df_b[col]\n",
      "/var/folders/lp/1260tw150dq3w83bb5lkjmpw0000gn/T/ipykernel_31665/2386849204.py:4: PerformanceWarning: DataFrame is highly fragmented.  This is usually the result of calling `frame.insert` many times, which has poor performance.  Consider joining all columns at once using pd.concat(axis=1) instead. To get a de-fragmented frame, use `newframe = frame.copy()`\n",
      "  result_df[col] = df_a[col] - df_b[col]\n",
      "/var/folders/lp/1260tw150dq3w83bb5lkjmpw0000gn/T/ipykernel_31665/2386849204.py:4: PerformanceWarning: DataFrame is highly fragmented.  This is usually the result of calling `frame.insert` many times, which has poor performance.  Consider joining all columns at once using pd.concat(axis=1) instead. To get a de-fragmented frame, use `newframe = frame.copy()`\n",
      "  result_df[col] = df_a[col] - df_b[col]\n",
      "/var/folders/lp/1260tw150dq3w83bb5lkjmpw0000gn/T/ipykernel_31665/2386849204.py:4: PerformanceWarning: DataFrame is highly fragmented.  This is usually the result of calling `frame.insert` many times, which has poor performance.  Consider joining all columns at once using pd.concat(axis=1) instead. To get a de-fragmented frame, use `newframe = frame.copy()`\n",
      "  result_df[col] = df_a[col] - df_b[col]\n",
      "/var/folders/lp/1260tw150dq3w83bb5lkjmpw0000gn/T/ipykernel_31665/2386849204.py:4: PerformanceWarning: DataFrame is highly fragmented.  This is usually the result of calling `frame.insert` many times, which has poor performance.  Consider joining all columns at once using pd.concat(axis=1) instead. To get a de-fragmented frame, use `newframe = frame.copy()`\n",
      "  result_df[col] = df_a[col] - df_b[col]\n",
      "/var/folders/lp/1260tw150dq3w83bb5lkjmpw0000gn/T/ipykernel_31665/2386849204.py:4: PerformanceWarning: DataFrame is highly fragmented.  This is usually the result of calling `frame.insert` many times, which has poor performance.  Consider joining all columns at once using pd.concat(axis=1) instead. To get a de-fragmented frame, use `newframe = frame.copy()`\n",
      "  result_df[col] = df_a[col] - df_b[col]\n",
      "/var/folders/lp/1260tw150dq3w83bb5lkjmpw0000gn/T/ipykernel_31665/2386849204.py:4: PerformanceWarning: DataFrame is highly fragmented.  This is usually the result of calling `frame.insert` many times, which has poor performance.  Consider joining all columns at once using pd.concat(axis=1) instead. To get a de-fragmented frame, use `newframe = frame.copy()`\n",
      "  result_df[col] = df_a[col] - df_b[col]\n",
      "/var/folders/lp/1260tw150dq3w83bb5lkjmpw0000gn/T/ipykernel_31665/2386849204.py:4: PerformanceWarning: DataFrame is highly fragmented.  This is usually the result of calling `frame.insert` many times, which has poor performance.  Consider joining all columns at once using pd.concat(axis=1) instead. To get a de-fragmented frame, use `newframe = frame.copy()`\n",
      "  result_df[col] = df_a[col] - df_b[col]\n",
      "/var/folders/lp/1260tw150dq3w83bb5lkjmpw0000gn/T/ipykernel_31665/2386849204.py:4: PerformanceWarning: DataFrame is highly fragmented.  This is usually the result of calling `frame.insert` many times, which has poor performance.  Consider joining all columns at once using pd.concat(axis=1) instead. To get a de-fragmented frame, use `newframe = frame.copy()`\n",
      "  result_df[col] = df_a[col] - df_b[col]\n",
      "/var/folders/lp/1260tw150dq3w83bb5lkjmpw0000gn/T/ipykernel_31665/2386849204.py:4: PerformanceWarning: DataFrame is highly fragmented.  This is usually the result of calling `frame.insert` many times, which has poor performance.  Consider joining all columns at once using pd.concat(axis=1) instead. To get a de-fragmented frame, use `newframe = frame.copy()`\n",
      "  result_df[col] = df_a[col] - df_b[col]\n",
      "/var/folders/lp/1260tw150dq3w83bb5lkjmpw0000gn/T/ipykernel_31665/2386849204.py:4: PerformanceWarning: DataFrame is highly fragmented.  This is usually the result of calling `frame.insert` many times, which has poor performance.  Consider joining all columns at once using pd.concat(axis=1) instead. To get a de-fragmented frame, use `newframe = frame.copy()`\n",
      "  result_df[col] = df_a[col] - df_b[col]\n",
      "/var/folders/lp/1260tw150dq3w83bb5lkjmpw0000gn/T/ipykernel_31665/2386849204.py:4: PerformanceWarning: DataFrame is highly fragmented.  This is usually the result of calling `frame.insert` many times, which has poor performance.  Consider joining all columns at once using pd.concat(axis=1) instead. To get a de-fragmented frame, use `newframe = frame.copy()`\n",
      "  result_df[col] = df_a[col] - df_b[col]\n",
      "/var/folders/lp/1260tw150dq3w83bb5lkjmpw0000gn/T/ipykernel_31665/2386849204.py:4: PerformanceWarning: DataFrame is highly fragmented.  This is usually the result of calling `frame.insert` many times, which has poor performance.  Consider joining all columns at once using pd.concat(axis=1) instead. To get a de-fragmented frame, use `newframe = frame.copy()`\n",
      "  result_df[col] = df_a[col] - df_b[col]\n",
      "/var/folders/lp/1260tw150dq3w83bb5lkjmpw0000gn/T/ipykernel_31665/2386849204.py:4: PerformanceWarning: DataFrame is highly fragmented.  This is usually the result of calling `frame.insert` many times, which has poor performance.  Consider joining all columns at once using pd.concat(axis=1) instead. To get a de-fragmented frame, use `newframe = frame.copy()`\n",
      "  result_df[col] = df_a[col] - df_b[col]\n",
      "/var/folders/lp/1260tw150dq3w83bb5lkjmpw0000gn/T/ipykernel_31665/2386849204.py:4: PerformanceWarning: DataFrame is highly fragmented.  This is usually the result of calling `frame.insert` many times, which has poor performance.  Consider joining all columns at once using pd.concat(axis=1) instead. To get a de-fragmented frame, use `newframe = frame.copy()`\n",
      "  result_df[col] = df_a[col] - df_b[col]\n",
      "/var/folders/lp/1260tw150dq3w83bb5lkjmpw0000gn/T/ipykernel_31665/2386849204.py:4: PerformanceWarning: DataFrame is highly fragmented.  This is usually the result of calling `frame.insert` many times, which has poor performance.  Consider joining all columns at once using pd.concat(axis=1) instead. To get a de-fragmented frame, use `newframe = frame.copy()`\n",
      "  result_df[col] = df_a[col] - df_b[col]\n",
      "/var/folders/lp/1260tw150dq3w83bb5lkjmpw0000gn/T/ipykernel_31665/2386849204.py:4: PerformanceWarning: DataFrame is highly fragmented.  This is usually the result of calling `frame.insert` many times, which has poor performance.  Consider joining all columns at once using pd.concat(axis=1) instead. To get a de-fragmented frame, use `newframe = frame.copy()`\n",
      "  result_df[col] = df_a[col] - df_b[col]\n",
      "/var/folders/lp/1260tw150dq3w83bb5lkjmpw0000gn/T/ipykernel_31665/2386849204.py:4: PerformanceWarning: DataFrame is highly fragmented.  This is usually the result of calling `frame.insert` many times, which has poor performance.  Consider joining all columns at once using pd.concat(axis=1) instead. To get a de-fragmented frame, use `newframe = frame.copy()`\n",
      "  result_df[col] = df_a[col] - df_b[col]\n",
      "/var/folders/lp/1260tw150dq3w83bb5lkjmpw0000gn/T/ipykernel_31665/2386849204.py:4: PerformanceWarning: DataFrame is highly fragmented.  This is usually the result of calling `frame.insert` many times, which has poor performance.  Consider joining all columns at once using pd.concat(axis=1) instead. To get a de-fragmented frame, use `newframe = frame.copy()`\n",
      "  result_df[col] = df_a[col] - df_b[col]\n",
      "/var/folders/lp/1260tw150dq3w83bb5lkjmpw0000gn/T/ipykernel_31665/2386849204.py:4: PerformanceWarning: DataFrame is highly fragmented.  This is usually the result of calling `frame.insert` many times, which has poor performance.  Consider joining all columns at once using pd.concat(axis=1) instead. To get a de-fragmented frame, use `newframe = frame.copy()`\n",
      "  result_df[col] = df_a[col] - df_b[col]\n",
      "/var/folders/lp/1260tw150dq3w83bb5lkjmpw0000gn/T/ipykernel_31665/2386849204.py:4: PerformanceWarning: DataFrame is highly fragmented.  This is usually the result of calling `frame.insert` many times, which has poor performance.  Consider joining all columns at once using pd.concat(axis=1) instead. To get a de-fragmented frame, use `newframe = frame.copy()`\n",
      "  result_df[col] = df_a[col] - df_b[col]\n",
      "/var/folders/lp/1260tw150dq3w83bb5lkjmpw0000gn/T/ipykernel_31665/2386849204.py:4: PerformanceWarning: DataFrame is highly fragmented.  This is usually the result of calling `frame.insert` many times, which has poor performance.  Consider joining all columns at once using pd.concat(axis=1) instead. To get a de-fragmented frame, use `newframe = frame.copy()`\n",
      "  result_df[col] = df_a[col] - df_b[col]\n",
      "/var/folders/lp/1260tw150dq3w83bb5lkjmpw0000gn/T/ipykernel_31665/2386849204.py:4: PerformanceWarning: DataFrame is highly fragmented.  This is usually the result of calling `frame.insert` many times, which has poor performance.  Consider joining all columns at once using pd.concat(axis=1) instead. To get a de-fragmented frame, use `newframe = frame.copy()`\n",
      "  result_df[col] = df_a[col] - df_b[col]\n",
      "/var/folders/lp/1260tw150dq3w83bb5lkjmpw0000gn/T/ipykernel_31665/2386849204.py:4: PerformanceWarning: DataFrame is highly fragmented.  This is usually the result of calling `frame.insert` many times, which has poor performance.  Consider joining all columns at once using pd.concat(axis=1) instead. To get a de-fragmented frame, use `newframe = frame.copy()`\n",
      "  result_df[col] = df_a[col] - df_b[col]\n",
      "/var/folders/lp/1260tw150dq3w83bb5lkjmpw0000gn/T/ipykernel_31665/2386849204.py:4: PerformanceWarning: DataFrame is highly fragmented.  This is usually the result of calling `frame.insert` many times, which has poor performance.  Consider joining all columns at once using pd.concat(axis=1) instead. To get a de-fragmented frame, use `newframe = frame.copy()`\n",
      "  result_df[col] = df_a[col] - df_b[col]\n",
      "/var/folders/lp/1260tw150dq3w83bb5lkjmpw0000gn/T/ipykernel_31665/2386849204.py:4: PerformanceWarning: DataFrame is highly fragmented.  This is usually the result of calling `frame.insert` many times, which has poor performance.  Consider joining all columns at once using pd.concat(axis=1) instead. To get a de-fragmented frame, use `newframe = frame.copy()`\n",
      "  result_df[col] = df_a[col] - df_b[col]\n",
      "/var/folders/lp/1260tw150dq3w83bb5lkjmpw0000gn/T/ipykernel_31665/2386849204.py:4: PerformanceWarning: DataFrame is highly fragmented.  This is usually the result of calling `frame.insert` many times, which has poor performance.  Consider joining all columns at once using pd.concat(axis=1) instead. To get a de-fragmented frame, use `newframe = frame.copy()`\n",
      "  result_df[col] = df_a[col] - df_b[col]\n",
      "/var/folders/lp/1260tw150dq3w83bb5lkjmpw0000gn/T/ipykernel_31665/2386849204.py:4: PerformanceWarning: DataFrame is highly fragmented.  This is usually the result of calling `frame.insert` many times, which has poor performance.  Consider joining all columns at once using pd.concat(axis=1) instead. To get a de-fragmented frame, use `newframe = frame.copy()`\n",
      "  result_df[col] = df_a[col] - df_b[col]\n",
      "/var/folders/lp/1260tw150dq3w83bb5lkjmpw0000gn/T/ipykernel_31665/2386849204.py:4: PerformanceWarning: DataFrame is highly fragmented.  This is usually the result of calling `frame.insert` many times, which has poor performance.  Consider joining all columns at once using pd.concat(axis=1) instead. To get a de-fragmented frame, use `newframe = frame.copy()`\n",
      "  result_df[col] = df_a[col] - df_b[col]\n",
      "/var/folders/lp/1260tw150dq3w83bb5lkjmpw0000gn/T/ipykernel_31665/2386849204.py:4: PerformanceWarning: DataFrame is highly fragmented.  This is usually the result of calling `frame.insert` many times, which has poor performance.  Consider joining all columns at once using pd.concat(axis=1) instead. To get a de-fragmented frame, use `newframe = frame.copy()`\n",
      "  result_df[col] = df_a[col] - df_b[col]\n",
      "/var/folders/lp/1260tw150dq3w83bb5lkjmpw0000gn/T/ipykernel_31665/2386849204.py:4: PerformanceWarning: DataFrame is highly fragmented.  This is usually the result of calling `frame.insert` many times, which has poor performance.  Consider joining all columns at once using pd.concat(axis=1) instead. To get a de-fragmented frame, use `newframe = frame.copy()`\n",
      "  result_df[col] = df_a[col] - df_b[col]\n",
      "/var/folders/lp/1260tw150dq3w83bb5lkjmpw0000gn/T/ipykernel_31665/2386849204.py:4: PerformanceWarning: DataFrame is highly fragmented.  This is usually the result of calling `frame.insert` many times, which has poor performance.  Consider joining all columns at once using pd.concat(axis=1) instead. To get a de-fragmented frame, use `newframe = frame.copy()`\n",
      "  result_df[col] = df_a[col] - df_b[col]\n"
     ]
    }
   ],
   "source": [
    "compute_vm_delta(pp_df_vm_a, odss_df_vm_a, vm_a_delta_df)\n",
    "compute_vm_delta(pp_df_vm_b, odss_df_vm_b, vm_b_delta_df)\n",
    "compute_vm_delta(pp_df_vm_c, odss_df_vm_c, vm_c_delta_df)"
   ]
  },
  {
   "cell_type": "code",
   "execution_count": 134,
   "metadata": {},
   "outputs": [
    {
     "data": {
      "image/png": "[encoded data removed]",
      "text/plain": [
       "<Figure size 720x720 with 3 Axes>"
      ]
     },
     "metadata": {
      "needs_background": "light"
     },
     "output_type": "display_data"
    }
   ],
   "source": [
    "# Lets look at the mean delta between OpenDSS and Pandapower\n",
    "n_bins = 20\n",
    "fig, axs = plt.subplots(1, 3, sharey=True, tight_layout=True, figsize=(10,10))\n",
    "_ = axs[0].hist(vm_a_delta_df.mean(), bins=n_bins)\n",
    "_ = axs[1].hist(vm_b_delta_df.mean(), bins=n_bins)\n",
    "_ = axs[2].hist(vm_c_delta_df.mean(), bins=n_bins)"
   ]
  },
  {
   "cell_type": "code",
   "execution_count": 135,
   "metadata": {},
   "outputs": [
    {
     "data": {
      "image/png": "[encoded data removed]",
      "text/plain": [
       "<Figure size 720x720 with 3 Axes>"
      ]
     },
     "metadata": {
      "needs_background": "light"
     },
     "output_type": "display_data"
    }
   ],
   "source": [
    "# Lets look at the max absolute deviation between OpenDSS and Pandapower\n",
    "n_bins = 20\n",
    "fig, axs = plt.subplots(1, 3, sharey=True, tight_layout=True, figsize=(10,10))\n",
    "_ = axs[0].hist(vm_a_delta_df.abs().max(), bins=n_bins)\n",
    "_ = axs[1].hist(vm_b_delta_df.abs().max(), bins=n_bins)\n",
    "_ = axs[2].hist(vm_c_delta_df.abs().max(), bins=n_bins)"
   ]
  },
  {
   "cell_type": "code",
   "execution_count": null,
   "metadata": {},
   "outputs": [],
   "source": []
  }
 ],
 "metadata": {
  "interpreter": {
   "hash": "7f75523d2252371c4cf2035f85c1c64a2947a6a616fe8f8c6e3e4fd9960bc010"
  },
  "kernelspec": {
   "display_name": "Python 3.9.10 64-bit ('opendss')",
   "language": "python",
   "name": "python3"
  },
  "language_info": {
   "codemirror_mode": {
    "name": "ipython",
    "version": 3
   },
   "file_extension": ".py",
   "mimetype": "text/x-python",
   "name": "python",
   "nbconvert_exporter": "python",
   "pygments_lexer": "ipython3",
   "version": "3.9.10"
  },
  "orig_nbformat": 4
 },
 "nbformat": 4,
 "nbformat_minor": 2
}
